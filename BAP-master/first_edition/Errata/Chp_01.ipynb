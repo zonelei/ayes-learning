{
 "cells": [
  {
   "cell_type": "markdown",
   "metadata": {},
   "source": [
    "### Page 5\n",
    "\n",
    "The sentence:\n",
    "\n",
    "`...the probability of the mass of the electron being 9.1 x 10-31 kg...`\n",
    "\n",
    "should be:\n",
    "\n",
    "`...the probability of the mass of the electron being $9.1 \\times 10^{-31}$ kg...`"
   ]
  },
  {
   "cell_type": "markdown",
   "metadata": {},
   "source": [
    "### Page 11\n",
    "\n",
    "It says: \n",
    "\n",
    "`p(D|H) is not necessarily the same as **p(D|H)**`\n",
    "\n",
    "It should be: \n",
    "\n",
    "`p(H|D) is not necessarily the same as **p(D|H)**`"
   ]
  },
  {
   "cell_type": "markdown",
   "metadata": {
    "collapsed": true
   },
   "source": [
    "### Page 14 \n",
    "\n",
    "**Choosing the likelihood**\n",
    "\n",
    "The correct formula shoul be:\n",
    "\n",
    "$$p(y|\\theta) = \\frac{N!}{y!(N-y)!} \\theta^y (1 - \\theta)^{N-y}$$"
   ]
  },
  {
   "cell_type": "markdown",
   "metadata": {},
   "source": [
    "### Page 16\n",
    "\n",
    "**Choosing the prior**\n",
    "\n",
    "Parentheses are missing in book's formula:\n",
    "\n",
    "$$\n",
    "p(\\theta)= \\frac{\\Gamma(\\alpha+\\beta)}{\\Gamma(\\alpha)\\Gamma(\\beta)}\\, \\theta^{\\alpha-1}(1-\\theta)^{\\beta-1}\n",
    "$$"
   ]
  },
  {
   "cell_type": "markdown",
   "metadata": {},
   "source": [
    "### Page 18\n",
    "\n",
    "**Getting the posterior**\n",
    "\n",
    "Parentheses are missing in book's formula:\n",
    "\n",
    "$$p(y|\\theta) = \\frac{N!}{y!(N-y)!} \\theta^y (1 - \\theta)^{N−y}  \\frac{\\Gamma(\\alpha+\\beta)}{\\Gamma(\\alpha)\\Gamma(\\beta)}\\, \\theta^{\\alpha-1}(1-\\theta)^{\\beta-1}$$\n",
    "\n",
    "\n",
    "$$\n",
    "p(\\theta|y) \\propto \\theta^y (1 - \\theta)^{N−y} \\theta^{\\alpha-1}(1-\\theta)^{\\beta-1}\n",
    "$$\n",
    "\n",
    "\n",
    "$$\n",
    "p(\\theta|y) \\propto \\theta^{\\alpha-1+y}(1-\\theta)^{\\beta+N−y-1}\n",
    "$$"
   ]
  }
 ],
 "metadata": {
  "kernelspec": {
   "display_name": "Python 3",
   "language": "python",
   "name": "python3"
  },
  "language_info": {
   "codemirror_mode": {
    "name": "ipython",
    "version": 3
   },
   "file_extension": ".py",
   "mimetype": "text/x-python",
   "name": "python",
   "nbconvert_exporter": "python",
   "pygments_lexer": "ipython3",
   "version": "3.6.2"
  }
 },
 "nbformat": 4,
 "nbformat_minor": 2
}
