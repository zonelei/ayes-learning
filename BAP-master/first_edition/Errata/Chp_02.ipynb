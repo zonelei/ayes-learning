{
 "cells": [
  {
   "cell_type": "markdown",
   "metadata": {},
   "source": [
    "### Page 34\n",
    "\n",
    "the line:\n",
    "\n",
    "`grid, posterior = posterior_grid_approx(points, h, n)`\n",
    "\n",
    "should be:\n",
    "\n",
    "`grid, posterior = posterior_grid(points, h, n)`\n",
    "\n",
    "The code is correct in the notebook."
   ]
  },
  {
   "cell_type": "markdown",
   "metadata": {},
   "source": [
    "### Page 39\n",
    "\n",
    "the line:\n",
    "\n",
    "`The most popular method that guarantees detailed balance is the Metropolis-Hasting algorithm.`\n",
    "\n",
    "should be:\n",
    "\n",
    "`The most popular method that guarantees detailed balance is the Metropolis-Hastings algorithm.`"
   ]
  },
  {
   "cell_type": "markdown",
   "metadata": {
    "collapsed": true
   },
   "source": [
    "### Page 50\n",
    "\n",
    "The line:\n",
    "\n",
    "`Often, as the number of data increases, the distribution of each parameter will tend to become Gaussian-like; this is due to the law of the large numbers.`\n",
    "\n",
    "should say:\n",
    "\n",
    "`Often, as the number of data increases, the distribution of each parameter will tend to become Gaussian-like; this is due to the central limit theorem.`\n",
    "\n",
    "Note: The central limit theorem states that (under certain conditions) when independent random variables are averaged we tend to get a Gaussian distribution, notice than the marginal distribution for a parameter is obtained by averaging over all the other parameters."
   ]
  }
 ],
 "metadata": {
  "kernelspec": {
   "display_name": "Python 3",
   "language": "python",
   "name": "python3"
  },
  "language_info": {
   "codemirror_mode": {
    "name": "ipython",
    "version": 3
   },
   "file_extension": ".py",
   "mimetype": "text/x-python",
   "name": "python",
   "nbconvert_exporter": "python",
   "pygments_lexer": "ipython3",
   "version": "3.6.2"
  }
 },
 "nbformat": 4,
 "nbformat_minor": 2
}
