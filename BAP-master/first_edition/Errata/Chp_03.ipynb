{
 "cells": [
  {
   "cell_type": "markdown",
   "metadata": {},
   "source": [
    "### Page 65 and page 66\n",
    "\n",
    "$\\sigma_h$ and $\\sigma_{\\sigma}$ are the same variable. \n",
    "\n",
    "\n",
    "Thus\n",
    "\n",
    "#### page 65\n",
    "\n",
    "the line:\n",
    "\n",
    "$$\\sigma \\sim HalfNormal(\\sigma_{h})$$\n",
    "\n",
    "\n",
    "should be:\n",
    " \n",
    "$$\\sigma \\sim HalfNormal(\\sigma_{\\sigma})$$\n",
    "\n",
    "#### page 66 \n",
    "\n",
    "the line:\n",
    "\n",
    "and $\\sigma$ comes from a half-normal distribution with standard deviation $\\sigma_h$\n",
    "\n",
    "should be:\n",
    "\n",
    "and $\\sigma$ comes from a half-normal distribution with standard deviation $\\sigma_{\\sigma}$\n",
    "\n",
    "#### also page 66\n",
    "\n",
    "The line:\n",
    "\n",
    "`For the half normal, we will use a value of $\\sigma_{\\sigma}$ is equal to 10, just a large value for the data.`\n",
    "\n",
    "should be:\n",
    "\n",
    "`For the half-normal, we will use a value of $\\sigma_{\\sigma}$ equal to 10, just a large value for the data.`"
   ]
  }
 ],
 "metadata": {
  "kernelspec": {
   "display_name": "Python 3",
   "language": "python",
   "name": "python3"
  },
  "language_info": {
   "codemirror_mode": {
    "name": "ipython",
    "version": 3
   },
   "file_extension": ".py",
   "mimetype": "text/x-python",
   "name": "python",
   "nbconvert_exporter": "python",
   "pygments_lexer": "ipython3",
   "version": "3.6.2"
  }
 },
 "nbformat": 4,
 "nbformat_minor": 2
}
