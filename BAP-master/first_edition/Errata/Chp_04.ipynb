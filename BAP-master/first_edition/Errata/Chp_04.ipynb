{
 "cells": [
  {
   "cell_type": "markdown",
   "metadata": {},
   "source": [
    "### Page 102\n",
    "\n",
    "The formula\n",
    "\n",
    "$\\alpha = \\alpha' + \\beta' x$\n",
    "\n",
    "Should be:\n",
    "\n",
    "$\\alpha = \\alpha' - \\beta' x$\n",
    "\n",
    "\n",
    "I want to add a clarification to the book. \n",
    "\n",
    "We center $x$ by doing:\n",
    "\n",
    "$$x' = x - \\bar x$$\n",
    "\n",
    "Then we can write the linear model as:\n",
    "\n",
    "$$y = \\alpha' + \\beta' x' + \\epsilon$$\n",
    "\n",
    "if we replace $x'$ with $x - \\bar x$, we get:\n",
    "\n",
    "$$y = \\alpha' + \\beta' (x - \\bar x) + \\epsilon$$\n",
    "\n",
    "reordering we get:\n",
    "\n",
    "$$y = \\alpha' - \\beta' \\bar x + \\beta' x + \\epsilon$$\n",
    "\n",
    "Notice that this last equation is equivalent to \n",
    "\n",
    "$$y = \\alpha + \\beta x + \\epsilon$$\n",
    "\n",
    "where:\n",
    "\n",
    "$$\\alpha = \\alpha' - \\beta' \\bar x$$\n",
    "\n",
    "and\n",
    "\n",
    "$$\\beta = \\beta' $$"
   ]
  },
  {
   "cell_type": "markdown",
   "metadata": {
    "collapsed": true
   },
   "source": [
    "### Page 108\n",
    "\n",
    "The sentence:\n",
    "\n",
    "Notice that the formula resembles the once for the variance\n",
    "\n",
    "Should be:\n",
    "\n",
    "Notice that the formula resembles the one for the variance"
   ]
  },
  {
   "cell_type": "markdown",
   "metadata": {},
   "source": [
    "### Page 129\n",
    "\n",
    "The sentence:\n",
    "\n",
    "When $x_i \\lt \\sim 11$, the dominating contribution comes from $\\beta_1$ , and when $x_i \\gt \\sim 11$ $\\beta_2$ dominates.\n",
    "\n",
    "Should be:\n",
    "\n",
    "When $x_i \\lt \\sim 2$, the dominating contribution comes from $\\beta_1$ , and when $x_i \\lt \\sim 2$ $\\beta_2$ dominates.\n"
   ]
  },
  {
   "cell_type": "markdown",
   "metadata": {},
   "source": [
    "### Page 131\n",
    "\n",
    "The sentence:\n",
    "\n",
    "Where $\\beta$ is a vector of coefficients of length $m$, that is, the number of dependent variables.\n",
    "\n",
    "Should be:\n",
    "\n",
    "Where $\\beta$ is a vector of coefficients of length $m$, that is, the number of independent variables."
   ]
  },
  {
   "cell_type": "markdown",
   "metadata": {},
   "source": [
    "### Page 140\n",
    "\n",
    "The formula\n",
    "\n",
    "$\\mu = \\alpha + \\beta_1 x_1 + \\beta_1 x_2$\n",
    "\n",
    "Should be\n",
    "\n",
    "$\\mu = \\alpha + \\beta_1 x_1 + \\beta_2 x_2$\n"
   ]
  },
  {
   "cell_type": "markdown",
   "metadata": {},
   "source": [
    "### Page 144\n",
    "\n",
    "The sentence:\n",
    "\n",
    "`Each dependent variable has an opposite effect on the dependent variable and the\n",
    "dependent variables are correlated`\n",
    "\n",
    "Should be:\n",
    "    \n",
    "`Each independent variable has an opposite effect on the dependent variable and the\n",
    "independent variables are correlated`"
   ]
  },
  {
   "cell_type": "markdown",
   "metadata": {},
   "source": [
    "### Page 145\n",
    "\n",
    "The sentence:\n",
    "    \n",
    "In all the examples we have seen so far, the dependent variables contribute additively to the predicted variable;\n",
    "\n",
    "Should be:\n",
    "\n",
    "In all the examples we have seen so far, the independent variables contribute additively to the predicted variable;"
   ]
  }
 ],
 "metadata": {
  "kernelspec": {
   "display_name": "Python 3",
   "language": "python",
   "name": "python3"
  },
  "language_info": {
   "codemirror_mode": {
    "name": "ipython",
    "version": 3
   },
   "file_extension": ".py",
   "mimetype": "text/x-python",
   "name": "python",
   "nbconvert_exporter": "python",
   "pygments_lexer": "ipython3",
   "version": "3.6.2"
  }
 },
 "nbformat": 4,
 "nbformat_minor": 2
}
