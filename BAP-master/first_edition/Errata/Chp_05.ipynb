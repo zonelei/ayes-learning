{
 "cells": [
  {
   "cell_type": "markdown",
   "metadata": {},
   "source": [
    "### Page 165\n",
    "\n",
    "the line:\n",
    "\n",
    "`The ANalysis Of VAriance (ANOVA), where we have a quantitative predicted variable and more than two categorical predictors.`\n",
    "\n",
    "should be:\n",
    "\n",
    "`The ANalysis Of VAriance (ANOVA), where we have a quantitative predicted variable and more than or equal to one categorical predictor.`\n",
    "\n",
    "Note: One-way ANOVA needs a quantitative predected variable and one categorical predictor. If the categorical predictor has two values, One-way ANOVA almost equals to the method of testing the difference of means between two populations. If it has more than two values, this must be the usual one-way ANOVA."
   ]
  },
  {
   "cell_type": "markdown",
   "metadata": {},
   "source": [
    "### Page 171\n",
    "\n",
    "the line:\n",
    "\n",
    "`...In all cases, we tried to directly compute p(x | y), that is, the probability of a given class knowing x...`\n",
    "\n",
    "should be:\n",
    "\n",
    "`...In all cases, we tried to directly compute p(y | x), that is, the probability of a given class knowing x...`"
   ]
  }
 ],
 "metadata": {
  "kernelspec": {
   "display_name": "Python 3",
   "language": "python",
   "name": "python3"
  },
  "language_info": {
   "codemirror_mode": {
    "name": "ipython",
    "version": 3
   },
   "file_extension": ".py",
   "mimetype": "text/x-python",
   "name": "python",
   "nbconvert_exporter": "python",
   "pygments_lexer": "ipython3",
   "version": "3.6.2"
  }
 },
 "nbformat": 4,
 "nbformat_minor": 2
}
