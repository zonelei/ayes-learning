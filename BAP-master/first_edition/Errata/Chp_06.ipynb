{
 "cells": [
  {
   "cell_type": "markdown",
   "metadata": {},
   "source": [
    "## Page 189\n",
    "\n",
    "The formula:\n",
    "\n",
    "$WAIC = 2 lppd + 2p_{WAIC}$\n",
    "\n",
    "Should be:\n",
    "    \n",
    "$WAIC = -2 lppd + 2p_{WAIC}$"
   ]
  },
  {
   "cell_type": "markdown",
   "metadata": {},
   "source": [
    "## Page 201\n",
    "\n",
    "The sentence:\n",
    "    \n",
    "`This makes total sense since the data has fewer values of heads than expected for θ = 5`\n",
    "\n",
    "Should be:\n",
    "    \n",
    "`This makes total sense since the data has fewer values of heads than expected for θ = 0.5`"
   ]
  },
  {
   "cell_type": "code",
   "execution_count": null,
   "metadata": {
    "collapsed": true
   },
   "outputs": [],
   "source": []
  }
 ],
 "metadata": {
  "kernelspec": {
   "display_name": "Python 3",
   "language": "python",
   "name": "python3"
  },
  "language_info": {
   "codemirror_mode": {
    "name": "ipython",
    "version": 3
   },
   "file_extension": ".py",
   "mimetype": "text/x-python",
   "name": "python",
   "nbconvert_exporter": "python",
   "pygments_lexer": "ipython3",
   "version": "3.6.2"
  }
 },
 "nbformat": 4,
 "nbformat_minor": 2
}
