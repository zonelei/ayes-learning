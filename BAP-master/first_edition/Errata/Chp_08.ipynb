{
 "cells": [
  {
   "cell_type": "markdown",
   "metadata": {},
   "source": [
    "## Page 234\n",
    "\n",
    "The sentence:\n",
    "    \n",
    "`So, we will define parametric models as those models for which the number of parameters is allowed to grow with the size of the data.`\n",
    "\n",
    "Should be:\n",
    "    \n",
    "`So, we will define non-parametric models as those models for which the number of parameters is allowed to grow with the size of the data.`"
   ]
  }
 ],
 "metadata": {
  "kernelspec": {
   "display_name": "Python 3",
   "language": "python",
   "name": "python3"
  },
  "language_info": {
   "codemirror_mode": {
    "name": "ipython",
    "version": 3
   },
   "file_extension": ".py",
   "mimetype": "text/x-python",
   "name": "python",
   "nbconvert_exporter": "python",
   "pygments_lexer": "ipython3",
   "version": "3.6.2"
  }
 },
 "nbformat": 4,
 "nbformat_minor": 2
}
